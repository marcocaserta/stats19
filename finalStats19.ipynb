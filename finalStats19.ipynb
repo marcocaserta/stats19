{
  "nbformat": 4,
  "nbformat_minor": 0,
  "metadata": {
    "colab": {
      "name": "finalStats19.ipynb",
      "provenance": [],
      "collapsed_sections": []
    },
    "kernelspec": {
      "name": "python3",
      "display_name": "Python 3"
    }
  },
  "cells": [
    {
      "cell_type": "markdown",
      "metadata": {
        "id": "KwxI_X-nji9C",
        "colab_type": "toc"
      },
      "source": [
        ">[INSTRUCTIONS](#scrollTo=eHuPBBCzp2j8)\n",
        "\n",
        ">[Dataset Format](#scrollTo=IaVtFworz9Am)\n",
        "\n",
        ">[Q1. (5 points)](#scrollTo=Y82a4EqF4O5z)\n",
        "\n",
        ">[Q2. (10 points)](#scrollTo=w4o0WNE74274)\n",
        "\n",
        ">[Q3. (10 points)](#scrollTo=MOEAlcWJYkTI)\n",
        "\n",
        ">[Q4. (15 points)](#scrollTo=FxnfRWBIZla2)\n",
        "\n",
        ">[Q5. (20 points)](#scrollTo=qlc3Si21bn2L)\n",
        "\n",
        ">[Q6. (15 points)](#scrollTo=Lw4R-BlVb3pD)\n",
        "\n",
        ">[Q7. (20 points)](#scrollTo=C2CJkKgpdWjW)\n",
        "\n",
        ">[Q8. (5 points)](#scrollTo=3KJ-sJsTCL8K)\n",
        "\n"
      ]
    },
    {
      "cell_type": "markdown",
      "metadata": {
        "id": "eHuPBBCzp2j8",
        "colab_type": "text"
      },
      "source": [
        "# INSTRUCTIONS\n",
        "\n",
        "Below you will find the questions of the exam. Answer them in the chunk created below each question. If you want to create more chunks, please do so in the section of the  corresponding section. **Note:** Answers which are not placed in the section associated to the corresponding questions will not be graded.\n",
        "\n",
        "Once you are done with the exam, please download the file to your computer using `File --> Download .ipynb`. Next, submit the file via campus online under `Assignment --> Final Exam December 2019`. Unless notified otherwise, submissions via email will not be accepted.\n",
        "\n",
        "***\n",
        "<font color=\"slateblue\">**Delivery of this material constitutes my affirmation that I have not violated the IE University Code of Ethics during this examination. I have neither given nor received help nor used any illicit means in the preparation and execution of this task.**</font>\n",
        "\n",
        "***\n",
        "<font color=\"indianred\">**Write your Name Here**: .....................</font>\n",
        "***\n",
        "\n",
        "The exam is composed of **8** exercises. The points associated with each exercise are indicated above. The maximum grade is 100. You are required to clearly and thoroughly show the steps followed and the code used to reach the final solution for each exercise, i.e., providing only the final answer is not enough. \n",
        "          \n",
        "\n",
        "- Exam duration: 120 minutes.\n",
        "- During the exam, you are allowed to use only the following items:\n",
        ">- Notes and documents (e.g., cheat sheets, etc.) in electronic format only\n",
        ">- A browser (to access campus online, notebooks, and/or other material in electronic format)\n",
        ">- You are not allowed to use any **messaging** software and/or app, e.g., whatsapp, facebook messenger, etc. Any software which could be used to connect with other people (fellow students or individuals outside the institution) is forbidden and will be dealth with as established in the IE Code of Conduct.\n",
        "\n",
        "**IMPORTANT**: Please, check whether this notebook is in \"Playground Mode\". Save a copy of this file **right now** under your drive. This ensures that all changes to the document  are periodically saved and, therefore, you will not loose your work.\n",
        "\n",
        "\n",
        "  \n"
      ]
    },
    {
      "cell_type": "markdown",
      "metadata": {
        "colab_type": "text",
        "id": "IaVtFworz9Am"
      },
      "source": [
        "# <font color=\"slateblue\">Dataset Format</font>\n",
        "\n",
        "Kiva.org is an online crowdfunding platform to extend financial services to poor and financially excluded people around the world. The `kiva.csv` dataset contains observations about loans granted to borrowers in different countries. Loans are used to setup businesses in different areas. The variables meaning is as follows:"
      ]
    },
    {
      "cell_type": "markdown",
      "metadata": {
        "id": "6wLWJtDPFoi-",
        "colab_type": "text"
      },
      "source": [
        "- id: Unique ID for loan\n",
        "- funded_amount: The amount disbursed by Kiva to the field agent(USD)\n",
        "- loan_amount: The amount disbursed by the field agent to the borrower(USD)\n",
        "- activity: More granular category\n",
        "- sector: High level category\n",
        "- use: Exact usage of loan amount\n",
        "- country_code: ISO country code of country in which loan was disbursed\n",
        "- country: Full country name of country in which loan was disbursed\n",
        "- region: Full region name within the country\n",
        "- currency: The currency in which the loan was disbursed\n",
        "- partner_id:ID of partner organization\n",
        "- posted_time: The time at which the loan is posted on Kiva by the field agent\n",
        " -disbursed_time: The time at which the loan is disbursed by the field agent to the borrower\n",
        "- funded_time: The time at which the loan posted to Kiva gets funded by lenders completely\n",
        "- term_in_months: The duration for which the loan was disbursed in months\n",
        "- lender_count: The total number of lenders that contributed to this loan\n",
        "- tags\n",
        "- repayment_interval: How the loan is paid back (montly, irregular, bullet)\n",
        "- date: when loan was given\n",
        "- gender: gender of the borrower"
      ]
    },
    {
      "cell_type": "markdown",
      "metadata": {
        "id": "Y82a4EqF4O5z",
        "colab_type": "text"
      },
      "source": [
        "# Q1. (5 points)\n",
        "\n",
        "- Import the dataset `kiva.csv` and display the first five observations."
      ]
    },
    {
      "cell_type": "code",
      "metadata": {
        "id": "mfPvOArjCO2W",
        "colab_type": "code",
        "colab": {}
      },
      "source": [
        "# write your answer here"
      ],
      "execution_count": 0,
      "outputs": []
    },
    {
      "cell_type": "markdown",
      "metadata": {
        "id": "w4o0WNE74274",
        "colab_type": "text"
      },
      "source": [
        "# Q2. (10 points)\n",
        "\n",
        "- Find the number of observations for each country and the average `funded_amount` for each country."
      ]
    },
    {
      "cell_type": "code",
      "metadata": {
        "id": "FG1-EoAGCP-4",
        "colab_type": "code",
        "colab": {}
      },
      "source": [
        "# write your answer here"
      ],
      "execution_count": 0,
      "outputs": []
    },
    {
      "cell_type": "markdown",
      "metadata": {
        "id": "MOEAlcWJYkTI",
        "colab_type": "text"
      },
      "source": [
        "# Q3. (10 points)\n",
        "\n",
        "- Find a 95% confidence interval for the average `funded_amount` for the Education `sector`. Clearly state your conclusions."
      ]
    },
    {
      "cell_type": "code",
      "metadata": {
        "id": "yL431zh3CRPX",
        "colab_type": "code",
        "colab": {}
      },
      "source": [
        "# write your answer here"
      ],
      "execution_count": 0,
      "outputs": []
    },
    {
      "cell_type": "markdown",
      "metadata": {
        "id": "FxnfRWBIZla2",
        "colab_type": "text"
      },
      "source": [
        "# Q4. (15 points)\n",
        "\n",
        "- Consider the country _Pakistan_. Which sector receives the highest number of loans in Pakistan? Find a 95% confidence interval for the percentage of loans in Pakistan allocated to this sector with respect to the total number of loans in Pakistan. Clearly state your conclusions."
      ]
    },
    {
      "cell_type": "code",
      "metadata": {
        "id": "QwtO7mX_CR4c",
        "colab_type": "code",
        "colab": {}
      },
      "source": [
        "# write your answer here"
      ],
      "execution_count": 0,
      "outputs": []
    },
    {
      "cell_type": "markdown",
      "metadata": {
        "id": "qlc3Si21bn2L",
        "colab_type": "text"
      },
      "source": [
        "# Q5. (20 points)\n",
        "\n",
        "- Using the entire dataset:\n",
        ">- Plot the distribution of `funded_amount` for males and females in the same chart;\n",
        ">- test whether the average amount borrowed (`funded_amount`) by males and females is the same. Write the hypotheses you are testing and clearly state your conclusions. Use $\\alpha=0.05$."
      ]
    },
    {
      "cell_type": "code",
      "metadata": {
        "id": "Wu4_cd4KCSay",
        "colab_type": "code",
        "colab": {}
      },
      "source": [
        "# write your answer here"
      ],
      "execution_count": 0,
      "outputs": []
    },
    {
      "cell_type": "markdown",
      "metadata": {
        "id": "Lw4R-BlVb3pD",
        "colab_type": "text"
      },
      "source": [
        "# Q6. (15 points)\n",
        "\n",
        "- Consider now the loan repayment methods, described by the variable `repayment_interval`. Consider only the female borrowers: What is the percentage of loans for which repayment method is _monthly_ among females in this sample? Now, consider only the male borrowers: What is the percentage of loans for which `repayment_method` is _monthly_ among males in this sample? Is there enough evidence to claim that the percentage of monthly repayments among female borrowers is the same as the percentage of monthly repayments among male borrowers? Write the hypotheses you are testing and clearly state your conclusions. Use $\\alpha=0.05$."
      ]
    },
    {
      "cell_type": "code",
      "metadata": {
        "id": "JLnRvFvXCTWZ",
        "colab_type": "code",
        "colab": {}
      },
      "source": [
        "# write your answer here"
      ],
      "execution_count": 0,
      "outputs": []
    },
    {
      "cell_type": "markdown",
      "metadata": {
        "id": "C2CJkKgpdWjW",
        "colab_type": "text"
      },
      "source": [
        "# Q7. (20 points)\n",
        "\n",
        "- Consider the variable `country`. Is there enough evidence to claim that the average `loan_amount` is different for the countries included in this dataset? If so, which country is receiving the highest loan amount? Clearly show all the steps followed to address this question and test any required assumptions. State your conclusions.\n",
        "\n",
        "\n",
        "\n"
      ]
    },
    {
      "cell_type": "code",
      "metadata": {
        "id": "QWUIxaqcCUTp",
        "colab_type": "code",
        "colab": {}
      },
      "source": [
        "# write your answer here"
      ],
      "execution_count": 0,
      "outputs": []
    },
    {
      "cell_type": "markdown",
      "metadata": {
        "colab_type": "text",
        "id": "3KJ-sJsTCL8K"
      },
      "source": [
        "# Q8. (5 points)\n",
        "\n",
        "- Use the column `date` to plot the distribution of the number of observations per day for the `country` _Pakistan_. Next, obtain the mean and the standard deviation of the number of observations per day for this country, and use these estimators to compute the probability that, in a given day, more than $2$ loans are granted to borrowers in this country. Compare the theretical probability you obtained with the empirical one, i.e., the probability of having more than $2$ loans in a day for Pakistan in this dataset."
      ]
    },
    {
      "cell_type": "code",
      "metadata": {
        "id": "qPilCe0SCUzS",
        "colab_type": "code",
        "colab": {}
      },
      "source": [
        "# write your answer here"
      ],
      "execution_count": 0,
      "outputs": []
    }
  ]
}